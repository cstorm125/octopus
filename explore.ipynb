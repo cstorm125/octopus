{
 "cells": [
  {
   "cell_type": "markdown",
   "metadata": {},
   "source": [
    "# Explore `octopus`"
   ]
  },
  {
   "cell_type": "markdown",
   "metadata": {},
   "source": [
    "## Problem Statement"
   ]
  },
  {
   "cell_type": "markdown",
   "metadata": {},
   "source": [
    "On July 23, 2020, [Ministry of Higher Education, Science, Research and Innovation](https://www.mhesi.go.th/home/), strictly speaking its committee กรรมการข้าราชการพลเรือนในสถาบันอุดมศึกษา (ก.พ.อ.), announced the 2020 guideline for academic rank acquisition ([หลักเกณฑ์และวิธีการพิจารณาแต่งตั้งบุคคลให้ดำรงตำแหน่งผู้ช่วยศาสตราจารย์ รองศาสตราจารย์ และศาสตราจารย์ พ.ศ. ๒๕๖๓](http://www.ratchakitcha.soc.go.th/DATA/PDF/2563/E/147/T_0020.PDF)). The guideline details several ways to achieve the academic ranks including the number of academic publishings and internationally referenced textbooks. One of the ways requires certain number of citations and h-index on [SCOPUS](https://www.scopus.com/) for Associate Professorship and Professorship:\n",
    "\n",
    "###  For science, technology, engineering, medical research, etc.\n",
    "* Associate Professorship \n",
    "    * 10 papers on Q1/Q2 SCOPUS database, 5 of which the author is first or corresponding author\n",
    "    * SCOPUS Lifetime citations of 500, excluding self-citations\n",
    "    * SCOPUS Lifetime h-index of 8 or more\n",
    "    * Principal investigator for at least 5 projects funded from sources outside of the one's own institution\n",
    "* Professorship\n",
    "    * 10 papers on SCOPUS database since becoming an associate professor, all of which the author is first or corresponding author\n",
    "    * SCOPUS Lifetime citations of 1,000, excluding self-citations\n",
    "    * SCOPUS Lifetime h-index of 18 or more\n",
    "    * Principal investigator for at least 10 projects funded from sources outside of the one's own institution\n",
    "\n",
    "###  For business management, economics, etc.\n",
    "* Associate Professorship\n",
    "    * 5 papers on SCOPUS database, 3 of which the author is first or corresponding author\n",
    "    * SCOPUS Lifetime citations of 150, excluding self-citations\n",
    "    * SCOPUS Lifetime h-index of 4 or more\n",
    "    * Principal investigator for at least 5 projects funded from sources outside of the one's own institution\n",
    "* Professorship\n",
    "    * 10 papers on SCOPUS database since becoming an associate professor, all of which the author is first or corresponding author\n",
    "    * SCOPUS Lifetime citations of, excluding self-citations, 500 for management and 200 for economics\n",
    "    * SCOPUS Lifetime h-index of 8 or more\n",
    "    * Principal investigator for at least 10 projects funded from sources outside of the one's own institution"
   ]
  },
  {
   "cell_type": "code",
   "execution_count": 8,
   "metadata": {},
   "outputs": [],
   "source": [
    "import numpy as np\n",
    "import pandas as pd\n",
    "from pandas_profiling import ProfileReport\n",
    "from sklearn.cluster import KMeans\n",
    "from tqdm.auto import tqdm\n",
    "from plotnine import *\n",
    "import matplotlib.pyplot as plt\n",
    "from ipywidgets import interact, interactive, fixed, interact_manual\n",
    "import warnings\n",
    "warnings.filterwarnings('ignore')"
   ]
  },
  {
   "cell_type": "code",
   "execution_count": 9,
   "metadata": {},
   "outputs": [
    {
     "data": {
      "text/plain": [
       "(7575, 15)"
      ]
     },
     "execution_count": 9,
     "metadata": {},
     "output_type": "execute_result"
    }
   ],
   "source": [
    "df = pd.read_csv('data/octopus_field_group.csv')\n",
    "df.shape"
   ]
  },
  {
   "cell_type": "code",
   "execution_count": null,
   "metadata": {},
   "outputs": [],
   "source": []
  }
 ],
 "metadata": {
  "kernelspec": {
   "display_name": "Python 3",
   "language": "python",
   "name": "python3"
  },
  "language_info": {
   "codemirror_mode": {
    "name": "ipython",
    "version": 3
   },
   "file_extension": ".py",
   "mimetype": "text/x-python",
   "name": "python",
   "nbconvert_exporter": "python",
   "pygments_lexer": "ipython3",
   "version": "3.6.9"
  }
 },
 "nbformat": 4,
 "nbformat_minor": 2
}
